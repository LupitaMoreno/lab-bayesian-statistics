{
 "cells": [
  {
   "cell_type": "markdown",
   "metadata": {},
   "source": [
    "# Intro to Bayesian Statistics Lab\n",
    "\n",
    "Complete the following set of exercises to solidify your knowledge of Bayesian statistics and Bayesian data analysis."
   ]
  },
  {
   "cell_type": "code",
   "execution_count": 1,
   "metadata": {},
   "outputs": [],
   "source": [
    "import pandas as pd\n",
    "import numpy as np\n",
    "import matplotlib.pyplot as plt"
   ]
  },
  {
   "cell_type": "markdown",
   "metadata": {},
   "source": [
    "## 1. Cookie Problem\n",
    "\n",
    "Suppose we have two bowls of cookies. Bowl 1 contains 30 vanilla cookies and 10 chocolate cookies. Bowl 2 contains 20 of each. You randomly pick one cookie out of one of the bowls, and it is vanilla. Use Bayes Theorem to calculate the probability that the vanilla cookie you picked came from Bowl 1?"
   ]
  },
  {
   "cell_type": "code",
   "execution_count": 2,
   "metadata": {},
   "outputs": [],
   "source": [
    "def bayes_rule(priors, likelihoods):\n",
    "    marg = sum(np.multiply(priors, likelihoods))\n",
    "    post = np.divide(np.multiply(priors, likelihoods), marg)\n",
    "    return post"
   ]
  },
  {
   "cell_type": "code",
   "execution_count": 3,
   "metadata": {},
   "outputs": [
    {
     "name": "stdout",
     "output_type": "stream",
     "text": [
      "La probabilidad de que la galleta de vainilla venga del recipiente 1 es 0.6\n"
     ]
    }
   ],
   "source": [
    "priors = [1/2, 1/2]\n",
    "likelihoods = [3/4, 1/2]\n",
    "\n",
    "vainilla = bayes_rule(priors, likelihoods)\n",
    "print(f'La probabilidad de que la galleta de vainilla venga del recipiente 1 es {vainilla[0]}')"
   ]
  },
  {
   "cell_type": "markdown",
   "metadata": {},
   "source": [
    "What is the probability that it came from Bowl 2?"
   ]
  },
  {
   "cell_type": "code",
   "execution_count": 4,
   "metadata": {},
   "outputs": [
    {
     "name": "stdout",
     "output_type": "stream",
     "text": [
      "La probabilidad de que la galleta de vainilla venga del recipiente 2 es 0.4\n"
     ]
    }
   ],
   "source": [
    "print(f'La probabilidad de que la galleta de vainilla venga del recipiente 2 es {vainilla[1]}')"
   ]
  },
  {
   "cell_type": "markdown",
   "metadata": {},
   "source": [
    "What if the cookie you had picked was chocolate? What are the probabilities that the chocolate cookie came from Bowl 1 and Bowl 2 respectively?"
   ]
  },
  {
   "cell_type": "code",
   "execution_count": 5,
   "metadata": {},
   "outputs": [
    {
     "name": "stdout",
     "output_type": "stream",
     "text": [
      "La probabilidad de que la galleta de chocolate venga del recipiente 1 es 0.3333333333333333\n",
      "La probabilidad de que la galleta de chocolate venga del recipiente 2 es 0.6666666666666666\n"
     ]
    }
   ],
   "source": [
    "priors = [1/2, 1/2]\n",
    "likelihoods = [1/4, 1/2]\n",
    "\n",
    "chocolate = bayes_rule(priors, likelihoods)\n",
    "print(f'La probabilidad de que la galleta de chocolate venga del recipiente 1 es {chocolate[0]}')\n",
    "print(f'La probabilidad de que la galleta de chocolate venga del recipiente 2 es {chocolate[1]}')"
   ]
  },
  {
   "cell_type": "markdown",
   "metadata": {},
   "source": [
    "## 2. Candy Problem\n",
    "\n",
    "Suppose you have two bags of candies:\n",
    "\n",
    "- In Bag 1, the mix of colors is:\n",
    "    - Brown - 30%\n",
    "    - Yellow - 20%\n",
    "    - Red - 20%\n",
    "    - Green - 10%\n",
    "    - Orange - 10%\n",
    "    - Tan - 10%\n",
    "    \n",
    "- In Bag 2, the mix of colors is:\n",
    "    - Blue - 24%\n",
    "    - Green - 20%\n",
    "    - Orange - 16%\n",
    "    - Yellow - 14%\n",
    "    - Red - 13%\n",
    "    - Brown - 13%\n",
    "    \n",
    "Not knowing which bag is which, you randomly draw one candy from each bag. One is yellow and one is green. What is the probability that the yellow one came from the Bag 1?\n",
    "\n",
    "*Hint: For the likelihoods, you will need to multiply the probabilities of drawing yellow from one bag and green from the other bag and vice versa.*"
   ]
  },
  {
   "cell_type": "code",
   "execution_count": 6,
   "metadata": {},
   "outputs": [
    {
     "name": "stdout",
     "output_type": "stream",
     "text": [
      "La probabilidad de que el dulce amarillo venga de la bolsa 1 es 0.7407407407407408\n"
     ]
    }
   ],
   "source": [
    "prior = [0.5,0.5]\n",
    "likelihoods = [0.2*0.2,0.1*0.14]\n",
    "bolsas_y = bayes_rule(prior, likelihoods)\n",
    "print(f'La probabilidad de que el dulce amarillo venga de la bolsa 1 es {bolsas_y[0]}')"
   ]
  },
  {
   "cell_type": "markdown",
   "metadata": {},
   "source": [
    "What is the probability that the yellow candy came from Bag 2?"
   ]
  },
  {
   "cell_type": "code",
   "execution_count": 7,
   "metadata": {},
   "outputs": [
    {
     "name": "stdout",
     "output_type": "stream",
     "text": [
      "La probabilidad de que el dulce amarillo venga de la bolsa 2 es 0.25925925925925924\n"
     ]
    }
   ],
   "source": [
    "print(f'La probabilidad de que el dulce amarillo venga de la bolsa 2 es {bolsas_y[1]}')"
   ]
  },
  {
   "cell_type": "markdown",
   "metadata": {},
   "source": [
    "What are the probabilities that the green one came from Bag 1 and Bag 2 respectively?"
   ]
  },
  {
   "cell_type": "code",
   "execution_count": 8,
   "metadata": {},
   "outputs": [
    {
     "name": "stdout",
     "output_type": "stream",
     "text": [
      "La probabilidad de que el dulce amarillo venga de la bolsa 1 es 0.25925925925925924\n",
      "La probabilidad de que el dulce amarillo venga de la bolsa 2 es 0.7407407407407408\n"
     ]
    }
   ],
   "source": [
    "prior = [0.5,0.5]\n",
    "likelihoods = [0.1*0.14,0.2*0.2]\n",
    "bolsas_g = bayes_rule(prior, likelihoods)\n",
    "print(f'La probabilidad de que el dulce amarillo venga de la bolsa 1 es {bolsas_g[0]}')\n",
    "print(f'La probabilidad de que el dulce amarillo venga de la bolsa 2 es {bolsas_g[1]}')"
   ]
  },
  {
   "cell_type": "markdown",
   "metadata": {},
   "source": [
    "## 3. Monty Hall Problem\n",
    "\n",
    "Suppose you are a contestant on the popular game show *Let's Make a Deal*. The host of the show (Monty Hall) presents you with three doors - Door A, Door B, and Door C. He tells you that there is a sports car behind one of them and if you choose the correct one, you win the car!\n",
    "\n",
    "You select Door A, but then Monty makes things a little more interesting. He opens Door B to reveal that there is no sports car behind it and asks you if you would like to stick with your choice of Door A or switch your choice to Door C. Given this new information, what are the probabilities of you winning the car if you stick with Door A versus if you switch to Door C?"
   ]
  },
  {
   "cell_type": "code",
   "execution_count": 9,
   "metadata": {},
   "outputs": [
    {
     "name": "stdout",
     "output_type": "stream",
     "text": [
      "Probailities of you wining the car if you stick with Door A is 0.3333333333333333\n",
      "Probailities of you wining the car if you switch with Door C is 0.0\n"
     ]
    }
   ],
   "source": [
    "#Estamos buscando la probabilidad de que el carro este en la puerta A dado que Monty eligio la puerta B\n",
    "#      P(DA|MB) \n",
    "prior = [1/3, 1/3, 1/3]  # P(DA), P(DB), P(DC)\n",
    "likelihoods =[0.5,0,1] #      P(MB|DA) , P(MB|DB), P(MB|DC) Probabilidad de que Monty eliga la puerta B\n",
    "# dado que el carro esta en la puerta A.\n",
    "probabilidad = bayes_rule(prior, likelihoods)\n",
    "print(f'Probailities of you wining the car if you stick with Door A is {probabilidad[0]}')\n",
    "print(f'Probailities of you wining the car if you switch with Door C is {probabilidad[1]}')"
   ]
  },
  {
   "cell_type": "markdown",
   "metadata": {},
   "source": [
    "## 4. Bayesian Analysis \n",
    "\n",
    "Suppose you work for a landscaping company, and they want to advertise their service online. They create an ad and sit back waiting for the money to roll in. On the first day, the ad sends 100 visitors to the site and 14 of them sign up for landscaping services. Create a generative model to come up with the posterior distribution and produce a visualization of what the posterior distribution would look like given the observed data."
   ]
  },
  {
   "cell_type": "code",
   "execution_count": 10,
   "metadata": {},
   "outputs": [],
   "source": [
    "#P(exito)=0.14 Observación de un día \n",
    "visitantes = 100\n",
    "compradores = 14\n"
   ]
  },
  {
   "cell_type": "markdown",
   "metadata": {},
   "source": [
    "Produce a set of descriptive statistics for the posterior distribution."
   ]
  },
  {
   "cell_type": "code",
   "execution_count": 11,
   "metadata": {},
   "outputs": [
    {
     "data": {
      "text/plain": [
       "0.5014158691774967"
      ]
     },
     "execution_count": 11,
     "metadata": {},
     "output_type": "execute_result"
    }
   ],
   "source": [
    "#probabilidad de que alguien compre probabilida binomial\n",
    "#cuando no tienes información usas la distribución uniforme. \n",
    "#prior te da una una lista de las probabilidades de compra considerando una distribución uniforme.\n",
    "\n",
    "n_draws= 100000 \n",
    "prior = pd.Series(np.random.uniform(0,1, size=n_draws))\n",
    "prior\n",
    "#probabildad de que compren\n",
    "prior.mean()"
   ]
  },
  {
   "cell_type": "code",
   "execution_count": 12,
   "metadata": {},
   "outputs": [
    {
     "data": {
      "text/plain": [
       "15"
      ]
     },
     "execution_count": 12,
     "metadata": {},
     "output_type": "execute_result"
    }
   ],
   "source": [
    "#param probabilidad de \n",
    "def generative_model(param):\n",
    "    result = np.random.binomial(100,param)\n",
    "    return result\n",
    "generative_model(0.1)\n"
   ]
  },
  {
   "cell_type": "code",
   "execution_count": 13,
   "metadata": {},
   "outputs": [
    {
     "data": {
      "text/plain": [
       "[5, 90, 77, 24, 65, 15, 87, 5, 36, 23]"
      ]
     },
     "execution_count": 13,
     "metadata": {},
     "output_type": "execute_result"
    }
   ],
   "source": [
    "compraron = list()\n",
    "for p in prior:\n",
    "    compraron.append(generative_model(p))\n",
    "compraron[0:10]"
   ]
  },
  {
   "cell_type": "code",
   "execution_count": 14,
   "metadata": {},
   "outputs": [
    {
     "data": {
      "image/png": "[encoded data removed]",
      "text/plain": [
       "<Figure size 432x288 with 1 Axes>"
      ]
     },
     "metadata": {
      "needs_background": "light"
     },
     "output_type": "display_data"
    }
   ],
   "source": [
    "posterior = prior[list(map(lambda x: x == 14 ,compraron))]\n",
    "posterior.hist();"
   ]
  },
  {
   "cell_type": "code",
   "execution_count": 15,
   "metadata": {},
   "outputs": [
    {
     "data": {
      "text/plain": [
       "0.14669392928493907"
      ]
     },
     "execution_count": 15,
     "metadata": {},
     "output_type": "execute_result"
    }
   ],
   "source": [
    "posterior.mean()"
   ]
  },
  {
   "cell_type": "markdown",
   "metadata": {},
   "source": [
    "What is the 90% credible interval range?"
   ]
  },
  {
   "cell_type": "code",
   "execution_count": 17,
   "metadata": {},
   "outputs": [
    {
     "name": "stdout",
     "output_type": "stream",
     "text": [
      "Intervalo de confianza (0.0943147173380671, 0.2049231113036612)\n"
     ]
    }
   ],
   "source": [
    "print(f'Intervalo de confianza ({posterior.quantile(.05)}, {posterior.quantile(.95)})')"
   ]
  },
  {
   "cell_type": "markdown",
   "metadata": {},
   "source": [
    "What is the Maximum Likelihood Estimate?"
   ]
  },
  {
   "cell_type": "code",
   "execution_count": 35,
   "metadata": {},
   "outputs": [
    {
     "name": "stdout",
     "output_type": "stream",
     "text": [
      "Probabilidad estimada: 0.01865284974093264\n"
     ]
    }
   ],
   "source": [
    "rounded = posterior.round(3)\n",
    "mode = rounded.mode()[0]\n",
    "probability = list(rounded).count(mode)/len(rounded)\n",
    "print(f'Probabilidad estimada: {probability}')"
   ]
  },
  {
   "cell_type": "code",
   "execution_count": 29,
   "metadata": {},
   "outputs": [
    {
     "data": {
      "text/plain": [
       "78       0.09\n",
       "145      0.23\n",
       "946      0.17\n",
       "1082     0.13\n",
       "1178     0.14\n",
       "         ... \n",
       "99755    0.19\n",
       "99820    0.09\n",
       "99839    0.14\n",
       "99878    0.10\n",
       "99994    0.11\n",
       "Length: 965, dtype: float64"
      ]
     },
     "execution_count": 29,
     "metadata": {},
     "output_type": "execute_result"
    }
   ],
   "source": []
  },
  {
   "cell_type": "code",
   "execution_count": null,
   "metadata": {},
   "outputs": [],
   "source": []
  }
 ],
 "metadata": {
  "kernelspec": {
   "display_name": "Python 3",
   "language": "python",
   "name": "python3"
  },
  "language_info": {
   "codemirror_mode": {
    "name": "ipython",
    "version": 3
   },
   "file_extension": ".py",
   "mimetype": "text/x-python",
   "name": "python",
   "nbconvert_exporter": "python",
   "pygments_lexer": "ipython3",
   "version": "3.7.6"
  }
 },
 "nbformat": 4,
 "nbformat_minor": 4
}
